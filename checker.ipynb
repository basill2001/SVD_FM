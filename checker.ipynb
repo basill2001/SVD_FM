{
 "cells": [
  {
   "cell_type": "code",
   "execution_count": 7,
   "metadata": {},
   "outputs": [],
   "source": [
    "import pickle\n",
    "import numpy as np\n",
    "import matplotlib.pyplot as plt"
   ]
  },
  {
   "cell_type": "code",
   "execution_count": 2,
   "metadata": {},
   "outputs": [
    {
     "data": {
      "text/plain": [
       "array([[1., 1., 1., ..., 0., 0., 0.],\n",
       "       [1., 0., 0., ..., 0., 0., 0.],\n",
       "       [0., 0., 0., ..., 0., 0., 0.],\n",
       "       ...,\n",
       "       [1., 0., 0., ..., 0., 0., 0.],\n",
       "       [0., 0., 0., ..., 0., 0., 0.],\n",
       "       [0., 1., 0., ..., 0., 0., 0.]])"
      ]
     },
     "execution_count": 2,
     "metadata": {},
     "output_type": "execute_result"
    }
   ],
   "source": [
    "with open('ui_matrix', 'rb') as f:\n",
    "    ui_matrix = pickle.load(f)\n",
    "ui_matrix"
   ]
  },
  {
   "cell_type": "code",
   "execution_count": 12,
   "metadata": {},
   "outputs": [
    {
     "data": {
      "text/plain": [
       "<BarContainer object of 2 artists>"
      ]
     },
     "execution_count": 12,
     "metadata": {},
     "output_type": "execute_result"
    },
    {
     "data": {
      "image/png": "[encoded data removed]",
      "text/plain": [
       "<Figure size 640x480 with 1 Axes>"
      ]
     },
     "metadata": {},
     "output_type": "display_data"
    }
   ],
   "source": [
    "counts = np.unique(ui_matrix, return_counts=True)\n",
    "plt.bar(counts[0], counts[1])"
   ]
  },
  {
   "cell_type": "code",
   "execution_count": 18,
   "metadata": {},
   "outputs": [],
   "source": [
    "from src.util.NMFs import NMFs\n",
    "user_embedding, item_embedding = NMFs(42).fit_nmf(ui_matrix)"
   ]
  },
  {
   "cell_type": "code",
   "execution_count": 19,
   "metadata": {},
   "outputs": [
    {
     "data": {
      "text/plain": [
       "array([[0.11328642, 0.        , 0.13688001, ..., 0.1036522 , 0.11775494,\n",
       "        0.27020915],\n",
       "       [0.        , 0.08729499, 0.        , ..., 0.        , 0.05657737,\n",
       "        0.        ],\n",
       "       [0.        , 0.        , 0.        , ..., 0.        , 0.02908967,\n",
       "        0.        ],\n",
       "       ...,\n",
       "       [0.        , 0.03528912, 0.        , ..., 0.        , 0.28117617,\n",
       "        0.        ],\n",
       "       [0.        , 0.00450054, 0.        , ..., 0.29374208, 0.03715213,\n",
       "        0.16345744],\n",
       "       [0.        , 0.12130009, 0.        , ..., 0.04199994, 0.00740986,\n",
       "        0.34640543]])"
      ]
     },
     "execution_count": 19,
     "metadata": {},
     "output_type": "execute_result"
    }
   ],
   "source": [
    "user_embedding"
   ]
  },
  {
   "cell_type": "code",
   "execution_count": 20,
   "metadata": {},
   "outputs": [
    {
     "data": {
      "text/plain": [
       "array([[0.81716564, 1.25881531, 0.        , ..., 0.90101575, 1.5503114 ,\n",
       "        0.17874133],\n",
       "       [0.19103723, 0.        , 0.        , ..., 0.14775585, 0.        ,\n",
       "        0.        ],\n",
       "       [0.        , 0.20505292, 0.        , ..., 0.        , 0.07350475,\n",
       "        0.        ],\n",
       "       ...,\n",
       "       [0.        , 0.        , 0.        , ..., 0.        , 0.        ,\n",
       "        0.        ],\n",
       "       [0.02079723, 0.        , 0.        , ..., 0.        , 0.        ,\n",
       "        0.        ],\n",
       "       [0.01358773, 0.        , 0.01642247, ..., 0.        , 0.        ,\n",
       "        0.        ]])"
      ]
     },
     "execution_count": 20,
     "metadata": {},
     "output_type": "execute_result"
    }
   ],
   "source": [
    "item_embedding"
   ]
  },
  {
   "cell_type": "code",
   "execution_count": 23,
   "metadata": {},
   "outputs": [
    {
     "name": "stdout",
     "output_type": "stream",
     "text": [
      "rank of user_embedding : 16\n",
      "rank of item_embedding : 16\n"
     ]
    }
   ],
   "source": [
    "print(\"rank of user_embedding :\", np.linalg.matrix_rank(user_embedding))\n",
    "print(\"rank of item_embedding :\", np.linalg.matrix_rank(item_embedding))"
   ]
  }
 ],
 "metadata": {
  "kernelspec": {
   "display_name": ".venv",
   "language": "python",
   "name": "python3"
  },
  "language_info": {
   "codemirror_mode": {
    "name": "ipython",
    "version": 3
   },
   "file_extension": ".py",
   "mimetype": "text/x-python",
   "name": "python",
   "nbconvert_exporter": "python",
   "pygments_lexer": "ipython3",
   "version": "3.12.3"
  }
 },
 "nbformat": 4,
 "nbformat_minor": 2
}
