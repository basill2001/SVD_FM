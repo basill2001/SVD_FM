{
 "cells": [
  {
   "cell_type": "code",
   "execution_count": 36,
   "metadata": {},
   "outputs": [],
   "source": [
    "import pickle\n",
    "import pandas as pd\n",
    "import numpy as np\n",
    "import time"
   ]
  },
  {
   "cell_type": "code",
   "execution_count": 46,
   "metadata": {},
   "outputs": [],
   "source": [
    "from sklearn.decomposition import SparsePCA\n",
    "from sklearn.decomposition import MiniBatchSparsePCA\n",
    "from sklearn.decomposition import TruncatedSVD"
   ]
  },
  {
   "cell_type": "code",
   "execution_count": 38,
   "metadata": {},
   "outputs": [],
   "source": [
    "with open('../results/x.pickle', mode='rb') as f:\n",
    "    x = pickle.load(f)"
   ]
  },
  {
   "cell_type": "code",
   "execution_count": 39,
   "metadata": {},
   "outputs": [
    {
     "data": {
      "text/plain": [
       "array([[1., 1., 1., ..., 0., 0., 0.],\n",
       "       [1., 0., 0., ..., 0., 0., 0.],\n",
       "       [0., 0., 0., ..., 0., 0., 0.],\n",
       "       ...,\n",
       "       [1., 0., 0., ..., 0., 0., 0.],\n",
       "       [0., 0., 0., ..., 0., 0., 0.],\n",
       "       [0., 1., 0., ..., 0., 0., 0.]], shape=(943, 1650))"
      ]
     },
     "execution_count": 39,
     "metadata": {},
     "output_type": "execute_result"
    }
   ],
   "source": [
    "x"
   ]
  },
  {
   "cell_type": "code",
   "execution_count": 45,
   "metadata": {},
   "outputs": [
    {
     "name": "stdout",
     "output_type": "stream",
     "text": [
      "[[ 25.89913891 -14.62534205  51.91227953 ...  27.06423124  33.467753\n",
      "    8.65557573]\n",
      " [-63.96125865  -5.21681544  -7.70857005 ... -40.58383198 -14.30328372\n",
      "  -18.6500506 ]\n",
      " [-68.7345558  -48.81838808 -36.92247844 ... -24.07812614  -3.93269504\n",
      "  -25.28152398]\n",
      " ...\n",
      " [-74.23127841  -2.27355621 -34.35959524 ... -19.36828789   8.57081721\n",
      "  -22.75363056]\n",
      " [-44.33242986  -8.10205677 -19.21148007 ...  12.38932991 -16.23195989\n",
      "  -10.98784345]\n",
      " [209.25722735  35.442505   -27.2735415  ...  11.63796097  52.21164228\n",
      "   48.31144683]]\n",
      "(943, 16)\n",
      "time : 567.2709226608276\n"
     ]
    }
   ],
   "source": [
    "start = time.time()\n",
    "\n",
    "transformer = SparsePCA(n_components=16, random_state=42)\n",
    "\n",
    "X = x@x.T\n",
    "transformer.fit(X)\n",
    "X_trsf = transformer.transform(X)\n",
    "print(X_trsf)\n",
    "print(X_trsf.shape)\n",
    "\n",
    "end = time.time()\n",
    "print('time :', end-start)"
   ]
  },
  {
   "cell_type": "code",
   "execution_count": 47,
   "metadata": {},
   "outputs": [
    {
     "name": "stdout",
     "output_type": "stream",
     "text": [
      "[[ 4.85645296e+00 -3.99194280e-01  5.75403863e-01 ... -1.47317697e-01\n",
      "   1.11745025e-01 -5.20785008e-01]\n",
      " [ 1.57533151e+00  2.47939177e+00  1.46275221e+00 ...  6.14819719e-01\n",
      "   1.83610319e-01  1.24244791e-01]\n",
      " [ 3.77319306e-01  6.58728226e-01  4.31538807e-01 ... -1.98482621e-01\n",
      "   1.41989430e-01 -4.86131557e-02]\n",
      " ...\n",
      " [ 1.07614935e+00  1.50573453e+00  1.47039807e-03 ...  5.70598090e-02\n",
      "   5.93631418e-01  1.72155419e-01]\n",
      " [ 3.43227000e+00 -1.44210450e-02  1.14737408e+00 ...  3.28466831e-01\n",
      "  -1.62569245e-01  3.13109887e-01]\n",
      " [ 6.04040896e+00 -1.13785892e-01 -2.78721692e+00 ... -1.13780592e-01\n",
      "   6.15400552e-01  6.12704192e-01]] [[ 0.09972284  0.03814507  0.01940138 ...  0.          0.00065585\n",
      "   0.00072281]\n",
      " [ 0.10242211 -0.01153166  0.02416116 ...  0.         -0.00061008\n",
      "  -0.00087239]\n",
      " [-0.04504041 -0.06267296 -0.01336823 ... -0.         -0.00031226\n",
      "  -0.00027046]\n",
      " ...\n",
      " [-0.04118159  0.01367536 -0.00411273 ...  0.          0.00423097\n",
      "  -0.00119634]\n",
      " [-0.03205811  0.01465168  0.02454217 ... -0.          0.00101244\n",
      "   0.00428534]\n",
      " [-0.00024566  0.0048714  -0.04455785 ...  0.         -0.00271887\n",
      "  -0.00581203]]\n"
     ]
    }
   ],
   "source": [
    "svd = TruncatedSVD(n_components=16, random_state=42)\n",
    "u = svd.fit_transform(x)\n",
    "v = svd.components_\n",
    "print(u, v)"
   ]
  },
  {
   "cell_type": "code",
   "execution_count": 49,
   "metadata": {},
   "outputs": [
    {
     "ename": "ValueError",
     "evalue": "matmul: Input operand 1 has a mismatch in its core dimension 0, with gufunc signature (n?,k),(k,m?)->(n?,m?) (size 943 is different from 1650)",
     "output_type": "error",
     "traceback": [
      "\u001b[31m---------------------------------------------------------------------------\u001b[39m",
      "\u001b[31mValueError\u001b[39m                                Traceback (most recent call last)",
      "\u001b[36mCell\u001b[39m\u001b[36m \u001b[39m\u001b[32mIn[49]\u001b[39m\u001b[32m, line 7\u001b[39m\n\u001b[32m      3\u001b[39m transformer = MiniBatchSparsePCA(n_components=\u001b[32m16\u001b[39m, batch_size=\u001b[32m20\u001b[39m,\n\u001b[32m      4\u001b[39m                                  random_state=\u001b[32m42\u001b[39m)\n\u001b[32m      6\u001b[39m transformer.fit(x\u001b[38;5;129m@x\u001b[39m.T)\n\u001b[32m----> \u001b[39m\u001b[32m7\u001b[39m x_trsf_batch = transformer.transform(\u001b[43mx\u001b[49m\u001b[38;5;129;43m@X\u001b[39;49m\u001b[43m.\u001b[49m\u001b[43mT\u001b[49m)\n\u001b[32m      8\u001b[39m \u001b[38;5;28mprint\u001b[39m(x_trsf_batch)\n\u001b[32m      9\u001b[39m \u001b[38;5;28mprint\u001b[39m(x_trsf_batch.shape)\n",
      "\u001b[31mValueError\u001b[39m: matmul: Input operand 1 has a mismatch in its core dimension 0, with gufunc signature (n?,k),(k,m?)->(n?,m?) (size 943 is different from 1650)"
     ]
    }
   ],
   "source": [
    "start = time.time()\n",
    "\n",
    "transformer = MiniBatchSparsePCA(n_components=16, batch_size=20,\n",
    "                                 random_state=42)\n",
    "\n",
    "transformer.fit(x@x.T)\n",
    "x_trsf_batch = transformer.transform(x@X.T)\n",
    "print(x_trsf_batch)\n",
    "print(x_trsf_batch.shape)\n",
    "\n",
    "end = time.time()\n",
    "print('time :', end-start)"
   ]
  },
  {
   "cell_type": "code",
   "execution_count": null,
   "metadata": {},
   "outputs": [
    {
     "data": {
      "text/plain": [
       "array([[1., 1., 1., ..., 0., 0., 0.],\n",
       "       [1., 0., 0., ..., 0., 0., 0.],\n",
       "       [0., 0., 0., ..., 0., 0., 0.],\n",
       "       ...,\n",
       "       [1., 0., 0., ..., 0., 0., 0.],\n",
       "       [0., 0., 0., ..., 0., 0., 0.],\n",
       "       [0., 1., 0., ..., 0., 0., 0.]], shape=(943, 1650))"
      ]
     },
     "execution_count": 20,
     "metadata": {},
     "output_type": "execute_result"
    }
   ],
   "source": [
    "transformer = SparsePCA()"
   ]
  },
  {
   "cell_type": "code",
   "execution_count": 23,
   "metadata": {},
   "outputs": [
    {
     "data": {
      "text/plain": [
       "array([[1, 1, 1],\n",
       "       [1, 0, 0],\n",
       "       [0, 0, 0]])"
      ]
     },
     "execution_count": 23,
     "metadata": {},
     "output_type": "execute_result"
    }
   ],
   "source": [
    "temp = np.array([[1, 1, 1],\n",
    "                 [1, 0, 0],\n",
    "                 [0, 0, 0]])\n",
    "temp"
   ]
  },
  {
   "cell_type": "code",
   "execution_count": 24,
   "metadata": {},
   "outputs": [
    {
     "data": {
      "text/plain": [
       "array([[3, 1, 0],\n",
       "       [1, 1, 0],\n",
       "       [0, 0, 0]])"
      ]
     },
     "execution_count": 24,
     "metadata": {},
     "output_type": "execute_result"
    }
   ],
   "source": [
    "temp@temp.T"
   ]
  },
  {
   "cell_type": "code",
   "execution_count": 19,
   "metadata": {},
   "outputs": [
    {
     "name": "stdout",
     "output_type": "stream",
     "text": [
      "x@x.T\n",
      "[[108.   5.   2. ...   7.  11.  27.]\n",
      " [  5.  37.   0. ...   4.   6.   6.]\n",
      " [  2.   0.  16. ...   1.   3.   1.]\n",
      " ...\n",
      " [  7.   4.   1. ...  20.   4.   5.]\n",
      " [ 11.   6.   3. ...   4.  78.  17.]\n",
      " [ 27.   6.   1. ...   5.  17. 124.]]\n",
      "x.T@x\n",
      "[[353.  56.  35. ...   0.   1.   1.]\n",
      " [ 56.  84.  13. ...   0.   1.   1.]\n",
      " [ 35.  13.  47. ...   0.   0.   1.]\n",
      " ...\n",
      " [  0.   0.   0. ...   0.   0.   0.]\n",
      " [  1.   1.   0. ...   0.   1.   0.]\n",
      " [  1.   1.   1. ...   0.   0.   1.]]\n"
     ]
    }
   ],
   "source": [
    "print('x@x.T')\n",
    "print(x@x.T)\n",
    "print('x.T@x')\n",
    "print(x.T@x)"
   ]
  }
 ],
 "metadata": {
  "kernelspec": {
   "display_name": ".venv",
   "language": "python",
   "name": "python3"
  },
  "language_info": {
   "codemirror_mode": {
    "name": "ipython",
    "version": 3
   },
   "file_extension": ".py",
   "mimetype": "text/x-python",
   "name": "python",
   "nbconvert_exporter": "python",
   "pygments_lexer": "ipython3",
   "version": "3.12.3"
  }
 },
 "nbformat": 4,
 "nbformat_minor": 2
}
