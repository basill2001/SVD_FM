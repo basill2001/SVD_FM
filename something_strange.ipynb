{
 "cells": [
  {
   "cell_type": "markdown",
   "metadata": {},
   "source": [
    "`user_embedding`과 `item_embedding`의 값이 0~1 사이의 값으로 나오지 않음  \n",
    "![image](./images/image.png)"
   ]
  },
  {
   "cell_type": "markdown",
   "metadata": {},
   "source": [
    "```\n",
    "train_df of preprocess class\n",
    "Index(['user_id', 'item_id', 'unknown', 'Action', 'Adventure', 'Animation',\n",
    "       'Children', 'Comedy', 'Crime', 'Documentary', 'Drama', 'Fantasy',\n",
    "       'Film-Noir', 'Horror', 'Musical', 'Mystery', 'Romance', 'Sci-Fi',\n",
    "       'Thriller', 'War', 'Western', 'age', 'gender', 'occupation',\n",
    "       'item_embedding_0', 'item_embedding_1', 'item_embedding_2',\n",
    "       'item_embedding_3', 'item_embedding_4', 'item_embedding_5',\n",
    "       'item_embedding_6', 'item_embedding_7', 'item_embedding_8',\n",
    "       'item_embedding_9', 'item_embedding_10', 'item_embedding_11',\n",
    "       'item_embedding_12', 'item_embedding_13', 'item_embedding_14',\n",
    "       'item_embedding_15', 'user_embedding_0', 'user_embedding_1',\n",
    "       'user_embedding_2', 'user_embedding_3', 'user_embedding_4',\n",
    "       'user_embedding_5', 'user_embedding_6', 'user_embedding_7',\n",
    "       'user_embedding_8', 'user_embedding_9', 'user_embedding_10',\n",
    "       'user_embedding_11', 'user_embedding_12', 'user_embedding_13',\n",
    "       'user_embedding_14', 'user_embedding_15'],\n",
    "```"
   ]
  },
  {
   "cell_type": "markdown",
   "metadata": {},
   "source": [
    "`cat_cols` & `cont_cols` by `Preprocessor.get_catcont_train()`\n",
    "```\n",
    "['user_id', 'item_id', 'unknown', 'Action', 'Adventure', 'Animation', 'Children', 'Comedy', 'Crime', 'Documentary', 'Drama', 'Fantasy', 'Film-Noir', 'Horror', 'Musical', 'Mystery', 'Romance', 'Sci-Fi', 'Thriller', 'War', 'Western', 'age', 'gender', 'occupation'][]\n",
    "```\n",
    "`user_info`와 `item_info`만 찾아보기 때문에 시간정보는 들어가지 않음"
   ]
  }
 ],
 "metadata": {
  "kernelspec": {
   "display_name": ".venv",
   "language": "python",
   "name": "python3"
  },
  "language_info": {
   "codemirror_mode": {
    "name": "ipython",
    "version": 3
   },
   "file_extension": ".py",
   "mimetype": "text/x-python",
   "name": "python",
   "nbconvert_exporter": "python",
   "pygments_lexer": "ipython3",
   "version": "3.12.3"
  }
 },
 "nbformat": 4,
 "nbformat_minor": 2
}
